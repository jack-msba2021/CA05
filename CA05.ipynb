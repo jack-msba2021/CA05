{
  "nbformat": 4,
  "nbformat_minor": 0,
  "metadata": {
    "colab": {
      "name": "CA05.ipynb",
      "provenance": [],
      "collapsed_sections": []
    },
    "kernelspec": {
      "name": "python3",
      "display_name": "Python 3"
    },
    "language_info": {
      "name": "python"
    }
  },
  "cells": [
    {
      "cell_type": "markdown",
      "metadata": {
        "id": "GcRTNO4CtFCM"
      },
      "source": [
        "# Jack Taylor\n",
        "\n",
        "# CA05 - A - Logistic Regression"
      ]
    },
    {
      "cell_type": "markdown",
      "metadata": {
        "id": "e6W4RXnl7bKN"
      },
      "source": [
        "# The Application\n",
        "\n",
        "Cardiovascular Disease (CVD) kills more people than cancer globally. A dataset of real heart patients collected from a 15 year heart study cohort is made available for this assignment. The dataset has 16 patient features. Note that none of the features include any Blood Test information."
      ]
    },
    {
      "cell_type": "markdown",
      "metadata": {
        "id": "QWtbJKSNWXBc"
      },
      "source": [
        "# Data Source and Description\n",
        "\n",
        "Data File Name: cvd_data.csv\n",
        "\n",
        "File Location: https://github.com/ArinB/CA05-B-Logistic-Regression/raw/master/cvd_data.csv"
      ]
    },
    {
      "cell_type": "markdown",
      "metadata": {
        "id": "84oxJ8pTtaEg"
      },
      "source": [
        "# Program Initialization Section\n",
        "\n",
        "**Enter your import packages here**"
      ]
    },
    {
      "cell_type": "code",
      "metadata": {
        "id": "vpnVtV4Lsynr"
      },
      "source": [
        "import pandas as pd\n",
        "\n",
        "import numpy as np\n",
        "\n",
        "from sklearn import linear_model\n",
        "\n",
        "from sklearn.model_selection import train_test_split\n",
        "\n",
        "import matplotlib.pyplot as plt\n",
        "\n",
        "import seaborn as sns\n",
        "\n",
        "%matplotlib inline\n",
        "\n",
        "from sklearn import metrics"
      ],
      "execution_count": 34,
      "outputs": []
    },
    {
      "cell_type": "markdown",
      "metadata": {
        "id": "WU7b7GLXtv1W"
      },
      "source": [
        "# Data File Reading Section"
      ]
    },
    {
      "cell_type": "code",
      "metadata": {
        "colab": {
          "base_uri": "https://localhost:8080/",
          "height": 224
        },
        "id": "AycScdbIt0uk",
        "outputId": "92d392e8-2f2a-435d-e44e-9d43d7dc4ce6"
      },
      "source": [
        "data = pd.read_csv('cvd_data.csv')\n",
        "data.head()"
      ],
      "execution_count": 8,
      "outputs": [
        {
          "output_type": "execute_result",
          "data": {
            "text/html": [
              "<div>\n",
              "<style scoped>\n",
              "    .dataframe tbody tr th:only-of-type {\n",
              "        vertical-align: middle;\n",
              "    }\n",
              "\n",
              "    .dataframe tbody tr th {\n",
              "        vertical-align: top;\n",
              "    }\n",
              "\n",
              "    .dataframe thead th {\n",
              "        text-align: right;\n",
              "    }\n",
              "</style>\n",
              "<table border=\"1\" class=\"dataframe\">\n",
              "  <thead>\n",
              "    <tr style=\"text-align: right;\">\n",
              "      <th></th>\n",
              "      <th>cvd_4types</th>\n",
              "      <th>age_s1</th>\n",
              "      <th>race</th>\n",
              "      <th>educat</th>\n",
              "      <th>mstat</th>\n",
              "      <th>hip</th>\n",
              "      <th>neck20</th>\n",
              "      <th>waist</th>\n",
              "      <th>av_weight_kg</th>\n",
              "      <th>cgpkyr</th>\n",
              "      <th>tea15</th>\n",
              "      <th>srhype</th>\n",
              "      <th>parrptdiab</th>\n",
              "      <th>bend25</th>\n",
              "      <th>happy25</th>\n",
              "      <th>tired25</th>\n",
              "      <th>hlthlm25</th>\n",
              "    </tr>\n",
              "  </thead>\n",
              "  <tbody>\n",
              "    <tr>\n",
              "      <th>0</th>\n",
              "      <td>0</td>\n",
              "      <td>54</td>\n",
              "      <td>1</td>\n",
              "      <td>2</td>\n",
              "      <td>1</td>\n",
              "      <td>110.0</td>\n",
              "      <td>40.0</td>\n",
              "      <td>108.0</td>\n",
              "      <td>87.5</td>\n",
              "      <td>34.0</td>\n",
              "      <td>0</td>\n",
              "      <td>1</td>\n",
              "      <td>0</td>\n",
              "      <td>1</td>\n",
              "      <td>2</td>\n",
              "      <td>3</td>\n",
              "      <td>4</td>\n",
              "    </tr>\n",
              "    <tr>\n",
              "      <th>1</th>\n",
              "      <td>0</td>\n",
              "      <td>56</td>\n",
              "      <td>3</td>\n",
              "      <td>2</td>\n",
              "      <td>1</td>\n",
              "      <td>113.0</td>\n",
              "      <td>34.0</td>\n",
              "      <td>107.0</td>\n",
              "      <td>83.5</td>\n",
              "      <td>0.0</td>\n",
              "      <td>0</td>\n",
              "      <td>0</td>\n",
              "      <td>0</td>\n",
              "      <td>2</td>\n",
              "      <td>2</td>\n",
              "      <td>1</td>\n",
              "      <td>3</td>\n",
              "    </tr>\n",
              "    <tr>\n",
              "      <th>2</th>\n",
              "      <td>0</td>\n",
              "      <td>54</td>\n",
              "      <td>1</td>\n",
              "      <td>3</td>\n",
              "      <td>1</td>\n",
              "      <td>110.0</td>\n",
              "      <td>44.5</td>\n",
              "      <td>105.0</td>\n",
              "      <td>86.2</td>\n",
              "      <td>49.5</td>\n",
              "      <td>0</td>\n",
              "      <td>0</td>\n",
              "      <td>0</td>\n",
              "      <td>3</td>\n",
              "      <td>2</td>\n",
              "      <td>6</td>\n",
              "      <td>4</td>\n",
              "    </tr>\n",
              "    <tr>\n",
              "      <th>3</th>\n",
              "      <td>0</td>\n",
              "      <td>54</td>\n",
              "      <td>1</td>\n",
              "      <td>3</td>\n",
              "      <td>1</td>\n",
              "      <td>129.0</td>\n",
              "      <td>42.5</td>\n",
              "      <td>110.0</td>\n",
              "      <td>89.1</td>\n",
              "      <td>0.0</td>\n",
              "      <td>0</td>\n",
              "      <td>0</td>\n",
              "      <td>0</td>\n",
              "      <td>3</td>\n",
              "      <td>2</td>\n",
              "      <td>1</td>\n",
              "      <td>3</td>\n",
              "    </tr>\n",
              "    <tr>\n",
              "      <th>4</th>\n",
              "      <td>0</td>\n",
              "      <td>51</td>\n",
              "      <td>3</td>\n",
              "      <td>2</td>\n",
              "      <td>1</td>\n",
              "      <td>122.0</td>\n",
              "      <td>37.0</td>\n",
              "      <td>113.0</td>\n",
              "      <td>81.3</td>\n",
              "      <td>0.0</td>\n",
              "      <td>0</td>\n",
              "      <td>0</td>\n",
              "      <td>0</td>\n",
              "      <td>2</td>\n",
              "      <td>1</td>\n",
              "      <td>1</td>\n",
              "      <td>2</td>\n",
              "    </tr>\n",
              "  </tbody>\n",
              "</table>\n",
              "</div>"
            ],
            "text/plain": [
              "   cvd_4types  age_s1  race  educat  ...  bend25  happy25  tired25  hlthlm25\n",
              "0           0      54     1       2  ...       1        2        3         4\n",
              "1           0      56     3       2  ...       2        2        1         3\n",
              "2           0      54     1       3  ...       3        2        6         4\n",
              "3           0      54     1       3  ...       3        2        1         3\n",
              "4           0      51     3       2  ...       2        1        1         2\n",
              "\n",
              "[5 rows x 17 columns]"
            ]
          },
          "metadata": {
            "tags": []
          },
          "execution_count": 8
        }
      ]
    },
    {
      "cell_type": "markdown",
      "metadata": {
        "id": "wBBXsp2z5BeY"
      },
      "source": [
        "# Initial Data Investigation Section\n",
        "\n",
        "**Summarized Details**\n",
        "\n",
        "Descriptive statistics that summarize the central tendency, dispersion, and shape of the dataset's distribution, excluding NaN values."
      ]
    },
    {
      "cell_type": "code",
      "metadata": {
        "colab": {
          "base_uri": "https://localhost:8080/",
          "height": 317
        },
        "id": "1Tp6_z5T5neG",
        "outputId": "5c7dd906-7813-4f08-b092-6cd376fa6943"
      },
      "source": [
        "# Statistical Description of data\n",
        "\n",
        "data.describe()"
      ],
      "execution_count": 9,
      "outputs": [
        {
          "output_type": "execute_result",
          "data": {
            "text/html": [
              "<div>\n",
              "<style scoped>\n",
              "    .dataframe tbody tr th:only-of-type {\n",
              "        vertical-align: middle;\n",
              "    }\n",
              "\n",
              "    .dataframe tbody tr th {\n",
              "        vertical-align: top;\n",
              "    }\n",
              "\n",
              "    .dataframe thead th {\n",
              "        text-align: right;\n",
              "    }\n",
              "</style>\n",
              "<table border=\"1\" class=\"dataframe\">\n",
              "  <thead>\n",
              "    <tr style=\"text-align: right;\">\n",
              "      <th></th>\n",
              "      <th>cvd_4types</th>\n",
              "      <th>age_s1</th>\n",
              "      <th>race</th>\n",
              "      <th>educat</th>\n",
              "      <th>mstat</th>\n",
              "      <th>hip</th>\n",
              "      <th>neck20</th>\n",
              "      <th>waist</th>\n",
              "      <th>av_weight_kg</th>\n",
              "      <th>cgpkyr</th>\n",
              "      <th>tea15</th>\n",
              "      <th>srhype</th>\n",
              "      <th>parrptdiab</th>\n",
              "      <th>bend25</th>\n",
              "      <th>happy25</th>\n",
              "      <th>tired25</th>\n",
              "      <th>hlthlm25</th>\n",
              "    </tr>\n",
              "  </thead>\n",
              "  <tbody>\n",
              "    <tr>\n",
              "      <th>count</th>\n",
              "      <td>3242.000000</td>\n",
              "      <td>3242.000000</td>\n",
              "      <td>3242.000000</td>\n",
              "      <td>3242.000000</td>\n",
              "      <td>3242.000000</td>\n",
              "      <td>3242.000000</td>\n",
              "      <td>3242.000000</td>\n",
              "      <td>3242.000000</td>\n",
              "      <td>3242.000000</td>\n",
              "      <td>3242.000000</td>\n",
              "      <td>3242.000000</td>\n",
              "      <td>3242.000000</td>\n",
              "      <td>3242.000000</td>\n",
              "      <td>3242.000000</td>\n",
              "      <td>3242.000000</td>\n",
              "      <td>3242.000000</td>\n",
              "      <td>3242.000000</td>\n",
              "    </tr>\n",
              "    <tr>\n",
              "      <th>mean</th>\n",
              "      <td>0.590068</td>\n",
              "      <td>64.828809</td>\n",
              "      <td>1.094695</td>\n",
              "      <td>2.326342</td>\n",
              "      <td>1.368600</td>\n",
              "      <td>105.404832</td>\n",
              "      <td>37.550719</td>\n",
              "      <td>97.209904</td>\n",
              "      <td>82.945928</td>\n",
              "      <td>12.904010</td>\n",
              "      <td>0.430907</td>\n",
              "      <td>0.327884</td>\n",
              "      <td>0.067551</td>\n",
              "      <td>2.473782</td>\n",
              "      <td>2.281308</td>\n",
              "      <td>4.292721</td>\n",
              "      <td>3.864898</td>\n",
              "    </tr>\n",
              "    <tr>\n",
              "      <th>std</th>\n",
              "      <td>0.491897</td>\n",
              "      <td>10.400496</td>\n",
              "      <td>0.358237</td>\n",
              "      <td>0.697934</td>\n",
              "      <td>0.933871</td>\n",
              "      <td>10.280402</td>\n",
              "      <td>4.101003</td>\n",
              "      <td>13.598060</td>\n",
              "      <td>7.849650</td>\n",
              "      <td>20.156736</td>\n",
              "      <td>1.242444</td>\n",
              "      <td>0.469515</td>\n",
              "      <td>0.251012</td>\n",
              "      <td>0.672158</td>\n",
              "      <td>0.951695</td>\n",
              "      <td>1.021099</td>\n",
              "      <td>0.614247</td>\n",
              "    </tr>\n",
              "    <tr>\n",
              "      <th>min</th>\n",
              "      <td>0.000000</td>\n",
              "      <td>39.000000</td>\n",
              "      <td>1.000000</td>\n",
              "      <td>1.000000</td>\n",
              "      <td>1.000000</td>\n",
              "      <td>44.000000</td>\n",
              "      <td>25.000000</td>\n",
              "      <td>67.000000</td>\n",
              "      <td>57.400000</td>\n",
              "      <td>0.000000</td>\n",
              "      <td>0.000000</td>\n",
              "      <td>0.000000</td>\n",
              "      <td>0.000000</td>\n",
              "      <td>1.000000</td>\n",
              "      <td>1.000000</td>\n",
              "      <td>1.000000</td>\n",
              "      <td>1.000000</td>\n",
              "    </tr>\n",
              "    <tr>\n",
              "      <th>25%</th>\n",
              "      <td>0.000000</td>\n",
              "      <td>57.000000</td>\n",
              "      <td>1.000000</td>\n",
              "      <td>2.000000</td>\n",
              "      <td>1.000000</td>\n",
              "      <td>99.000000</td>\n",
              "      <td>34.425000</td>\n",
              "      <td>88.000000</td>\n",
              "      <td>78.200000</td>\n",
              "      <td>0.000000</td>\n",
              "      <td>0.000000</td>\n",
              "      <td>0.000000</td>\n",
              "      <td>0.000000</td>\n",
              "      <td>2.000000</td>\n",
              "      <td>2.000000</td>\n",
              "      <td>4.000000</td>\n",
              "      <td>4.000000</td>\n",
              "    </tr>\n",
              "    <tr>\n",
              "      <th>50%</th>\n",
              "      <td>1.000000</td>\n",
              "      <td>65.000000</td>\n",
              "      <td>1.000000</td>\n",
              "      <td>2.000000</td>\n",
              "      <td>1.000000</td>\n",
              "      <td>104.000000</td>\n",
              "      <td>37.150000</td>\n",
              "      <td>97.000000</td>\n",
              "      <td>82.550000</td>\n",
              "      <td>0.300000</td>\n",
              "      <td>0.000000</td>\n",
              "      <td>0.000000</td>\n",
              "      <td>0.000000</td>\n",
              "      <td>3.000000</td>\n",
              "      <td>2.000000</td>\n",
              "      <td>4.000000</td>\n",
              "      <td>4.000000</td>\n",
              "    </tr>\n",
              "    <tr>\n",
              "      <th>75%</th>\n",
              "      <td>1.000000</td>\n",
              "      <td>73.000000</td>\n",
              "      <td>1.000000</td>\n",
              "      <td>3.000000</td>\n",
              "      <td>1.000000</td>\n",
              "      <td>110.000000</td>\n",
              "      <td>40.500000</td>\n",
              "      <td>106.000000</td>\n",
              "      <td>86.575000</td>\n",
              "      <td>20.475000</td>\n",
              "      <td>0.000000</td>\n",
              "      <td>1.000000</td>\n",
              "      <td>0.000000</td>\n",
              "      <td>3.000000</td>\n",
              "      <td>3.000000</td>\n",
              "      <td>5.000000</td>\n",
              "      <td>4.000000</td>\n",
              "    </tr>\n",
              "    <tr>\n",
              "      <th>max</th>\n",
              "      <td>1.000000</td>\n",
              "      <td>90.000000</td>\n",
              "      <td>3.000000</td>\n",
              "      <td>4.000000</td>\n",
              "      <td>8.000000</td>\n",
              "      <td>168.000000</td>\n",
              "      <td>53.000000</td>\n",
              "      <td>135.000000</td>\n",
              "      <td>136.700000</td>\n",
              "      <td>170.500000</td>\n",
              "      <td>30.000000</td>\n",
              "      <td>1.000000</td>\n",
              "      <td>1.000000</td>\n",
              "      <td>3.000000</td>\n",
              "      <td>6.000000</td>\n",
              "      <td>6.000000</td>\n",
              "      <td>5.000000</td>\n",
              "    </tr>\n",
              "  </tbody>\n",
              "</table>\n",
              "</div>"
            ],
            "text/plain": [
              "        cvd_4types       age_s1  ...      tired25     hlthlm25\n",
              "count  3242.000000  3242.000000  ...  3242.000000  3242.000000\n",
              "mean      0.590068    64.828809  ...     4.292721     3.864898\n",
              "std       0.491897    10.400496  ...     1.021099     0.614247\n",
              "min       0.000000    39.000000  ...     1.000000     1.000000\n",
              "25%       0.000000    57.000000  ...     4.000000     4.000000\n",
              "50%       1.000000    65.000000  ...     4.000000     4.000000\n",
              "75%       1.000000    73.000000  ...     5.000000     4.000000\n",
              "max       1.000000    90.000000  ...     6.000000     5.000000\n",
              "\n",
              "[8 rows x 17 columns]"
            ]
          },
          "metadata": {
            "tags": []
          },
          "execution_count": 9
        }
      ]
    },
    {
      "cell_type": "code",
      "metadata": {
        "colab": {
          "base_uri": "https://localhost:8080/"
        },
        "id": "oo02VMiM5-Ho",
        "outputId": "736c7f51-b63e-48e3-cd62-c59a845bb02c"
      },
      "source": [
        "# Displaying number of total rows and columns of the dataset\n",
        "\n",
        "data.shape"
      ],
      "execution_count": 10,
      "outputs": [
        {
          "output_type": "execute_result",
          "data": {
            "text/plain": [
              "(3242, 17)"
            ]
          },
          "metadata": {
            "tags": []
          },
          "execution_count": 10
        }
      ]
    },
    {
      "cell_type": "code",
      "metadata": {
        "colab": {
          "base_uri": "https://localhost:8080/"
        },
        "id": "b4-zyK4H6HFk",
        "outputId": "616fea9d-33ac-42c5-8055-0f6f9ac48aa2"
      },
      "source": [
        "# Displaying number of non-null values for each column\n",
        "\n",
        "data.count()"
      ],
      "execution_count": 11,
      "outputs": [
        {
          "output_type": "execute_result",
          "data": {
            "text/plain": [
              "cvd_4types      3242\n",
              "age_s1          3242\n",
              "race            3242\n",
              "educat          3242\n",
              "mstat           3242\n",
              "hip             3242\n",
              "neck20          3242\n",
              "waist           3242\n",
              "av_weight_kg    3242\n",
              "cgpkyr          3242\n",
              "tea15           3242\n",
              "srhype          3242\n",
              "parrptdiab      3242\n",
              "bend25          3242\n",
              "happy25         3242\n",
              "tired25         3242\n",
              "hlthlm25        3242\n",
              "dtype: int64"
            ]
          },
          "metadata": {
            "tags": []
          },
          "execution_count": 11
        }
      ]
    },
    {
      "cell_type": "code",
      "metadata": {
        "colab": {
          "base_uri": "https://localhost:8080/"
        },
        "id": "14TCvJsH6QFy",
        "outputId": "52c49270-c815-4d78-cbfc-489f013705f2"
      },
      "source": [
        "# Displaying number of null values for each column\n",
        "\n",
        "data.isnull().sum()"
      ],
      "execution_count": 12,
      "outputs": [
        {
          "output_type": "execute_result",
          "data": {
            "text/plain": [
              "cvd_4types      0\n",
              "age_s1          0\n",
              "race            0\n",
              "educat          0\n",
              "mstat           0\n",
              "hip             0\n",
              "neck20          0\n",
              "waist           0\n",
              "av_weight_kg    0\n",
              "cgpkyr          0\n",
              "tea15           0\n",
              "srhype          0\n",
              "parrptdiab      0\n",
              "bend25          0\n",
              "happy25         0\n",
              "tired25         0\n",
              "hlthlm25        0\n",
              "dtype: int64"
            ]
          },
          "metadata": {
            "tags": []
          },
          "execution_count": 12
        }
      ]
    },
    {
      "cell_type": "code",
      "metadata": {
        "colab": {
          "base_uri": "https://localhost:8080/"
        },
        "id": "RhXQYr686aRa",
        "outputId": "6abb8947-257f-430f-f9ad-2faa978bd8a7"
      },
      "source": [
        "# Displaying range, column, number of non-nulll objects of each column, datatype and memory usage\n",
        "\n",
        "data.info()"
      ],
      "execution_count": 13,
      "outputs": [
        {
          "output_type": "stream",
          "text": [
            "<class 'pandas.core.frame.DataFrame'>\n",
            "RangeIndex: 3242 entries, 0 to 3241\n",
            "Data columns (total 17 columns):\n",
            " #   Column        Non-Null Count  Dtype  \n",
            "---  ------        --------------  -----  \n",
            " 0   cvd_4types    3242 non-null   int64  \n",
            " 1   age_s1        3242 non-null   int64  \n",
            " 2   race          3242 non-null   int64  \n",
            " 3   educat        3242 non-null   int64  \n",
            " 4   mstat         3242 non-null   int64  \n",
            " 5   hip           3242 non-null   float64\n",
            " 6   neck20        3242 non-null   float64\n",
            " 7   waist         3242 non-null   float64\n",
            " 8   av_weight_kg  3242 non-null   float64\n",
            " 9   cgpkyr        3242 non-null   float64\n",
            " 10  tea15         3242 non-null   int64  \n",
            " 11  srhype        3242 non-null   int64  \n",
            " 12  parrptdiab    3242 non-null   int64  \n",
            " 13  bend25        3242 non-null   int64  \n",
            " 14  happy25       3242 non-null   int64  \n",
            " 15  tired25       3242 non-null   int64  \n",
            " 16  hlthlm25      3242 non-null   int64  \n",
            "dtypes: float64(5), int64(12)\n",
            "memory usage: 430.7 KB\n"
          ],
          "name": "stdout"
        }
      ]
    },
    {
      "cell_type": "markdown",
      "metadata": {
        "id": "KFCnjtDM64AV"
      },
      "source": [
        "# Deliverables \n",
        "\n",
        "**Part 1:** Building a binary classifier model to predict the CVD Risk using a Logistic Regression Model"
      ]
    },
    {
      "cell_type": "code",
      "metadata": {
        "id": "SmeuRHRv_31G"
      },
      "source": [
        "# Selecting Features\n",
        "#Splitting the dataset in features and target variable\n",
        "\n",
        "feature_cols = ['age_s1', 'race', 'educat', 'mstat', 'hip', 'neck20', 'waist', 'av_weight_kg', 'cgpkyr', 'tea15', 'srhype', 'parrptdiab', 'bend25', 'happy25', 'tired25', 'hlthlm25']\n",
        "X = data[feature_cols] #Features\n",
        "y = data['cvd_4types'] #Target variable"
      ],
      "execution_count": 15,
      "outputs": []
    },
    {
      "cell_type": "code",
      "metadata": {
        "id": "7QWjp-vPBNxq"
      },
      "source": [
        "#Splitting X and y into training and testing sets\n",
        "\n",
        "X_train,X_test,y_train,y_test=train_test_split(X,y,test_size=0.25,random_state=0)"
      ],
      "execution_count": 19,
      "outputs": []
    },
    {
      "cell_type": "code",
      "metadata": {
        "colab": {
          "base_uri": "https://localhost:8080/"
        },
        "id": "oN3PjhIM70Hj",
        "outputId": "63beaaf5-3c85-457b-c42f-5c7c00f39d5c"
      },
      "source": [
        "#Model Development\n",
        "# Fit (train) the Logisitic Regression classifier\n",
        "\n",
        "clf = linear_model.LogisticRegression(C=1e40, solver='newton-cg', penalty='l2', verbose=1) #tested using liblinear, lbfgs, and newton-cg\n",
        "fitted_model = clf.fit(X,y)"
      ],
      "execution_count": 148,
      "outputs": [
        {
          "output_type": "stream",
          "text": [
            "[Parallel(n_jobs=1)]: Using backend SequentialBackend with 1 concurrent workers.\n",
            "[Parallel(n_jobs=1)]: Done   1 out of   1 | elapsed:    0.2s finished\n"
          ],
          "name": "stderr"
        }
      ]
    },
    {
      "cell_type": "code",
      "metadata": {
        "id": "_w_eo6f5C4oK"
      },
      "source": [
        "#Prediction\n",
        "prediction_result = clf.predict(X_test)"
      ],
      "execution_count": 149,
      "outputs": []
    },
    {
      "cell_type": "code",
      "metadata": {
        "colab": {
          "base_uri": "https://localhost:8080/"
        },
        "id": "rRKHDTUYGDxC",
        "outputId": "422c53e1-c005-4b12-f43a-5e984b7115e0"
      },
      "source": [
        "# Model Evaluation using Confusion Matrix\n",
        "cnf_matrix = metrics.confusion_matrix(y_test, prediction_result)\n",
        "\n",
        "cnf_matrix # 138 and 412 correctly made predictions"
      ],
      "execution_count": 150,
      "outputs": [
        {
          "output_type": "execute_result",
          "data": {
            "text/plain": [
              "array([[138, 179],\n",
              "       [ 82, 412]])"
            ]
          },
          "metadata": {
            "tags": []
          },
          "execution_count": 150
        }
      ]
    },
    {
      "cell_type": "code",
      "metadata": {
        "colab": {
          "base_uri": "https://localhost:8080/",
          "height": 342
        },
        "id": "QpUjxEqpHLIb",
        "outputId": "2e441b40-2d85-4ad8-f3d5-d699fc32e6cf"
      },
      "source": [
        "# Visualizing the confusion matrix with a heatmap\n",
        "\n",
        "class_names = [0,1]\n",
        "fig, ax = plt.subplots()\n",
        "tick_marks = np.arange(len(class_names))\n",
        "plt.xticks(tick_marks, class_names)\n",
        "plt.yticks(tick_marks, class_names)\n",
        "sns.heatmap(pd.DataFrame(cnf_matrix), annot=True, cmap=\"YlGnBu\", fmt='g')\n",
        "ax.xaxis.set_label_position(\"top\")\n",
        "plt.tight_layout()\n",
        "plt.title('Confusion Matrix', y=1.1)\n",
        "plt.ylabel('Actual')\n",
        "plt.xlabel('Predicted')"
      ],
      "execution_count": 151,
      "outputs": [
        {
          "output_type": "execute_result",
          "data": {
            "text/plain": [
              "Text(0.5, 257.44, 'Predicted')"
            ]
          },
          "metadata": {
            "tags": []
          },
          "execution_count": 151
        },
        {
          "output_type": "display_data",
          "data": {
            "image/png": "[encoded data removed]",
            "text/plain": [
              "<Figure size 432x288 with 2 Axes>"
            ]
          },
          "metadata": {
            "tags": [],
            "needs_background": "light"
          }
        }
      ]
    },
    {
      "cell_type": "markdown",
      "metadata": {
        "id": "DBAVcxWPIhDl"
      },
      "source": [
        "**Part 2:** Display the Feature Importance of all the features sorted in the order of decreasing influence on the CVD Risk"
      ]
    },
    {
      "cell_type": "code",
      "metadata": {
        "colab": {
          "base_uri": "https://localhost:8080/"
        },
        "id": "QlrymuFpIsNg",
        "outputId": "ff8cad6f-a4c1-443b-c6d4-90d696bc4bb8"
      },
      "source": [
        "# Get the coefficients\n",
        "\n",
        "print(fitted_model.coef_)"
      ],
      "execution_count": 152,
      "outputs": [
        {
          "output_type": "stream",
          "text": [
            "[[ 7.01083622e-04 -1.03965950e+00  2.62263930e-01 -1.46845056e-01\n",
            "  -5.93025209e-02 -4.52408182e-02  8.36004122e-02 -3.00145643e-02\n",
            "   1.91400779e-05 -5.37010933e-02  1.55236191e-01  6.36949655e-01\n",
            "   1.31544076e-01 -8.77669724e-02  1.15359693e-01 -5.91452572e-01]]\n"
          ],
          "name": "stdout"
        }
      ]
    },
    {
      "cell_type": "code",
      "metadata": {
        "colab": {
          "base_uri": "https://localhost:8080/"
        },
        "id": "_SKC55AnKOqk",
        "outputId": "a3640b82-fa24-4299-e2c5-f98320f73373"
      },
      "source": [
        "# Multiply the coefficients by standard deviation\n",
        "\n",
        "converted_coef = (np.std(X, 0)*fitted_model.coef_[0])\n",
        "print(converted_coef)"
      ],
      "execution_count": 153,
      "outputs": [
        {
          "output_type": "stream",
          "text": [
            "age_s1          0.007290\n",
            "race           -0.372387\n",
            "educat          0.183015\n",
            "mstat          -0.137113\n",
            "hip            -0.609560\n",
            "neck20         -0.185504\n",
            "waist           1.136628\n",
            "av_weight_kg   -0.235567\n",
            "cgpkyr          0.000386\n",
            "tea15          -0.066710\n",
            "srhype          0.072874\n",
            "parrptdiab      0.159858\n",
            "bend25          0.088405\n",
            "happy25        -0.083514\n",
            "tired25         0.117776\n",
            "hlthlm25       -0.363242\n",
            "dtype: float64\n"
          ],
          "name": "stdout"
        }
      ]
    },
    {
      "cell_type": "markdown",
      "metadata": {
        "id": "LXaZql1BPIi0"
      },
      "source": [
        "**Part 3:** Evaluate the performance of the model (including ROC Curve)"
      ]
    },
    {
      "cell_type": "code",
      "metadata": {
        "colab": {
          "base_uri": "https://localhost:8080/"
        },
        "id": "JEzco7g2Paxb",
        "outputId": "d3b15d64-9c30-42f0-d62b-8d8570940f63"
      },
      "source": [
        "# Model Accuracy\n",
        "\n",
        "print(\"Accuracy:\" ,metrics.accuracy_score(y_test, prediction_result))\n",
        "\n",
        "# Model Precision\n",
        "\n",
        "print(\"Precision:\" ,metrics.precision_score(y_test, prediction_result))\n",
        "\n",
        "# Model Recall\n",
        "\n",
        "print(\"Recall:\" ,metrics.recall_score(y_test, prediction_result))"
      ],
      "execution_count": 154,
      "outputs": [
        {
          "output_type": "stream",
          "text": [
            "Accuracy: 0.6781750924784217\n",
            "Precision: 0.6971235194585449\n",
            "Recall: 0.8340080971659919\n"
          ],
          "name": "stdout"
        }
      ]
    },
    {
      "cell_type": "code",
      "metadata": {
        "colab": {
          "base_uri": "https://localhost:8080/",
          "height": 265
        },
        "id": "T36zsmZtQe-0",
        "outputId": "fabdd318-ef7a-41a2-da18-cbc673d33f6e"
      },
      "source": [
        "# ROC Curve\n",
        "\n",
        "y_pred_proba = fitted_model.predict_proba(X_test)[::,1]\n",
        "fpr, tpr, _ = metrics.roc_curve(y_test, y_pred_proba)\n",
        "auc = metrics.roc_auc_score(y_test, y_pred_proba)\n",
        "plt.plot(fpr,tpr,label=\"data 1, auc=\"+str(auc))\n",
        "plt.legend(loc=4)\n",
        "plt.show()"
      ],
      "execution_count": 155,
      "outputs": [
        {
          "output_type": "display_data",
          "data": {
            "image/png": "[encoded data removed]",
            "text/plain": [
              "<Figure size 432x288 with 1 Axes>"
            ]
          },
          "metadata": {
            "tags": [],
            "needs_background": "light"
          }
        }
      ]
    }
  ]
}